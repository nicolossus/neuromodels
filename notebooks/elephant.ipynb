{
 "cells": [
  {
   "cell_type": "code",
   "execution_count": 1,
   "id": "740212f2",
   "metadata": {},
   "outputs": [],
   "source": [
    "%matplotlib inline\n",
    "\n",
    "import elephant\n",
    "import matplotlib.pyplot as plt\n",
    "import numpy as np\n",
    "import quantities as pq "
   ]
  },
  {
   "cell_type": "code",
   "execution_count": null,
   "id": "085c9ba6",
   "metadata": {},
   "outputs": [],
   "source": [
    "import numpy as np\n",
    "import matplotlib.pyplot as plt\n",
    "%matplotlib inline\n",
    "\n",
    "from quantities import ms, s, Hz\n",
    "from elephant.spike_train_generation import homogeneous_poisson_process, homogeneous_gamma_process"
   ]
  },
  {
   "cell_type": "code",
   "execution_count": 2,
   "id": "8d113a0c",
   "metadata": {},
   "outputs": [],
   "source": [
    "np.random.seed(28)  # to make the results reproducible\n",
    "\n",
    "spiketrain1 = elephant.spike_train_generation.homogeneous_poisson_process(rate=10 * pq.Hz,\n",
    "                                                                          t_start=0. * pq.ms,\n",
    "                                                                          t_stop=10000. * pq.ms)\n",
    "\n",
    "spiketrain2 = elephant.spike_train_generation.homogeneous_gamma_process(a=3, \n",
    "                                                                        b=10 * pq.Hz, \n",
    "                                                                        t_start=0. * pq.ms, \n",
    "                                                                        t_stop=10000. * pq.ms)"
   ]
  },
  {
   "cell_type": "code",
   "execution_count": 3,
   "id": "10b96736",
   "metadata": {},
   "outputs": [
    {
     "name": "stdout",
     "output_type": "stream",
     "text": [
      "spiketrain1 has 86 spikes:\n",
      "  t_start: 0.0 ms\n",
      "  t_stop: 10000.0 ms\n",
      "  spike times: [ 130.56871689  212.9488975   226.29827592  276.98036936  428.98955686\n",
      "  500.52740058  520.7014934   712.78326741 1023.72240825 1438.5822206\n",
      " 1459.98833449 1813.33021673 1840.0931127  1842.76384625 2134.75277845\n",
      " 2389.50529058 2424.31586247 2442.50087352 2492.82347094 2564.29523378\n",
      " 2601.1175461  2657.25382328 2834.49034266 2917.13387642 3094.85346602\n",
      " 3673.43814872 3713.87154431 3723.41345679 3872.06098092 3888.24039785\n",
      " 4017.468012   4327.90323112 4335.49373469 4394.76289732 4578.72228904\n",
      " 4594.450809   4739.38339953 4891.61080835 5004.02798871 5018.15004066\n",
      " 5022.15968125 5128.87775206 5157.80376561 5603.63739245 5679.86205063\n",
      " 5685.96188943 5805.94513287 5904.60968407 6130.73340495 6148.39813404\n",
      " 6242.65687654 6280.78073663 6424.8624103  6441.85611631 6707.62164194\n",
      " 6776.49941995 6955.61576645 6981.74827247 6993.04386921 7105.03779348\n",
      " 7191.54605997 7400.17203231 7985.43419227 8017.63481765 8153.36130504\n",
      " 8186.87109654 8316.42461067 8383.96915806 8586.47668566 8604.1816379\n",
      " 8959.35494692 8964.36704969 9084.94646591 9190.48591652 9195.24321152\n",
      " 9217.22074407 9257.35913969 9397.05219091 9442.46751528 9518.13395232\n",
      " 9561.85760156 9634.15105908 9664.49147731 9855.3699093  9952.98493383\n",
      " 9989.29301136] ms\n"
     ]
    }
   ],
   "source": [
    "print(f\"spiketrain1 has {len(spiketrain1)} spikes:\")\n",
    "print(\"  t_start:\", spiketrain1.t_start)\n",
    "print(\"  t_stop:\", spiketrain1.t_stop)\n",
    "print(\"  spike times:\", spiketrain1.times)"
   ]
  },
  {
   "cell_type": "code",
   "execution_count": 4,
   "id": "7b73341d",
   "metadata": {},
   "outputs": [
    {
     "name": "stdout",
     "output_type": "stream",
     "text": [
      "spiketrain2 has 31 spikes:\n",
      "  t_start: 0.0 ms\n",
      "  t_stop: 10000.0 ms\n",
      "  spike times: [ 379.69226731  721.17083962  981.4600578  1818.07697508 1930.07766122\n",
      " 2117.27420237 2247.71381158 2474.5892971  2909.11315779 3322.25690782\n",
      " 3655.2369896  4204.16482203 4636.17324707 4857.75363151 5128.2982248\n",
      " 5503.67720515 5711.07539264 5901.13841203 6343.81107862 6644.59205905\n",
      " 6961.02653437 7099.66475138 7771.05116137 7990.03297516 8243.50574847\n",
      " 8307.54382197 8532.54018371 9343.19166643 9492.66298758 9675.44381775\n",
      " 9828.78058714] ms\n"
     ]
    }
   ],
   "source": [
    "print(f\"spiketrain2 has {len(spiketrain2)} spikes:\")\n",
    "print(\"  t_start:\", spiketrain2.t_start)\n",
    "print(\"  t_stop:\", spiketrain2.t_stop)\n",
    "print(\"  spike times:\", spiketrain2.times)"
   ]
  },
  {
   "cell_type": "code",
   "execution_count": 5,
   "id": "6e9a7b0b",
   "metadata": {},
   "outputs": [
    {
     "data": {
      "image/png": "[encoded data removed]",
      "text/plain": [
       "<Figure size 576x216 with 1 Axes>"
      ]
     },
     "metadata": {
      "needs_background": "light"
     },
     "output_type": "display_data"
    }
   ],
   "source": [
    "plt.figure(figsize=(8, 3))\n",
    "plt.eventplot([spiketrain1.magnitude, spiketrain2.magnitude], linelengths=0.75, color='black')\n",
    "plt.xlabel('Time (ms)', fontsize=16)\n",
    "plt.yticks([0,1], labels=[\"spiketrain1\", \"spiketrain2\"], fontsize=16)\n",
    "plt.show()"
   ]
  },
  {
   "cell_type": "markdown",
   "id": "246925ce",
   "metadata": {},
   "source": [
    "### Mean firing rate\n",
    "\n",
    "The simplest approach is to assume a stationary firing rate and only use the total number of spikes and the duration of the spike train to calculate the average number of spikes per time unit. This results in a single value for a given spiketrain."
   ]
  },
  {
   "cell_type": "code",
   "execution_count": 9,
   "id": "bc3107f7",
   "metadata": {},
   "outputs": [
    {
     "name": "stdout",
     "output_type": "stream",
     "text": [
      "The mean firing rate of spiketrain1 is 8.6 Hz\n",
      "The mean firing rate of spiketrain2 is 3.1 Hz\n"
     ]
    }
   ],
   "source": [
    "mean_frate1 = elephant.statistics.mean_firing_rate(spiketrain1)\n",
    "mean_frate1.units = pq.Hz\n",
    "print(\"The mean firing rate of spiketrain1 is\", mean_frate1)\n",
    "\n",
    "mean_frate2 = elephant.statistics.mean_firing_rate(spiketrain2)\n",
    "mean_frate2.units = pq.Hz\n",
    "print(\"The mean firing rate of spiketrain2 is\", mean_frate2)"
   ]
  },
  {
   "cell_type": "code",
   "execution_count": 10,
   "id": "4b3bf1c3",
   "metadata": {},
   "outputs": [
    {
     "name": "stdout",
     "output_type": "stream",
     "text": [
      "The mean firing rate of spiketrain1 is 0.0086 1/ms\n",
      "The mean firing rate of spiketrain2 is 0.0031 1/ms\n"
     ]
    }
   ],
   "source": [
    "print(\"The mean firing rate of spiketrain1 is\", elephant.statistics.mean_firing_rate(spiketrain1))\n",
    "print(\"The mean firing rate of spiketrain2 is\", elephant.statistics.mean_firing_rate(spiketrain2))"
   ]
  },
  {
   "cell_type": "markdown",
   "id": "8be4a2eb",
   "metadata": {},
   "source": [
    "The mean firing rate of `spiketrain1` is higher than of `spiketrain2` as expected from the raster plot.\n",
    "\n",
    "Let’s quickly check the correctness of the `mean_firing_rate()` function by computing the firing rates manually:"
   ]
  },
  {
   "cell_type": "code",
   "execution_count": 11,
   "id": "e75cf0bd",
   "metadata": {},
   "outputs": [
    {
     "name": "stdout",
     "output_type": "stream",
     "text": [
      "The mean firing rate of spiketrain1 is 0.0086 1/ms\n",
      "The mean firing rate of spiketrain2 is 0.0031 1/ms\n"
     ]
    }
   ],
   "source": [
    "fr1 = len(spiketrain1) / (spiketrain1.t_stop - spiketrain1.t_start)\n",
    "fr2 = len(spiketrain2) / (spiketrain2.t_stop - spiketrain2.t_start)\n",
    "print(\"The mean firing rate of spiketrain1 is\", fr1)\n",
    "print(\"The mean firing rate of spiketrain2 is\", fr2)"
   ]
  },
  {
   "cell_type": "markdown",
   "id": "4736c2ad",
   "metadata": {},
   "source": [
    "Additionally, the period within the spike train during which to estimate the firing rate can be further limited using the `t_start` and `t_stop` keyword arguments. Here, we limit the firing rate estimation to the first second of the spiketrain."
   ]
  },
  {
   "cell_type": "code",
   "execution_count": 13,
   "id": "3e4b1ca1",
   "metadata": {},
   "outputs": [
    {
     "data": {
      "text/plain": [
       "array(0.008) * 1/ms"
      ]
     },
     "execution_count": 13,
     "metadata": {},
     "output_type": "execute_result"
    }
   ],
   "source": [
    "elephant.statistics.mean_firing_rate(spiketrain1, t_start=0*pq.ms, t_stop=1000*pq.ms)"
   ]
  },
  {
   "cell_type": "markdown",
   "id": "87fcb6db",
   "metadata": {},
   "source": [
    "### Coefficient of Variation (CV)\n",
    "\n",
    "In this section we will numerically verify that the coefficient of variation (CV), a measure of the variability of inter-spike intervals, of a spike train that is modeled as a random (stochastic) Poisson process, is 1.\n",
    "\n",
    "Let us generate 100 independent Poisson spike trains for 100 seconds each with a rate of 10 Hz for which we later will calculate the CV. For simplicity, we will store the spike trains in a list."
   ]
  },
  {
   "cell_type": "code",
   "execution_count": 15,
   "id": "7934862f",
   "metadata": {},
   "outputs": [],
   "source": [
    "spiketrain_list = [\n",
    "     elephant.spike_train_generation.homogeneous_poisson_process(rate=10.0*pq.Hz, \n",
    "                                                                 t_start=0.0*pq.s, \n",
    "                                                                 t_stop=100.0*pq.s)\n",
    "     for _ in range(100)]"
   ]
  },
  {
   "cell_type": "code",
   "execution_count": 16,
   "id": "63080c9a",
   "metadata": {},
   "outputs": [
    {
     "data": {
      "image/png": "[encoded data removed]",
      "text/plain": [
       "<Figure size 900x600 with 1 Axes>"
      ]
     },
     "metadata": {
      "needs_background": "light"
     },
     "output_type": "display_data"
    }
   ],
   "source": [
    "plt.figure(dpi=150)\n",
    "plt.eventplot([st.magnitude for st in spiketrain_list], linelengths=0.75, linewidths=0.75, color='black')\n",
    "plt.xlabel(\"Time, s\")\n",
    "plt.ylabel(\"Neuron id\")\n",
    "plt.xlim([0, 1])\n",
    "plt.show()"
   ]
  },
  {
   "cell_type": "markdown",
   "id": "48dda5b0",
   "metadata": {},
   "source": [
    "From the plot you can see the random nature of each Poisson spike train. Let us verify it numerically by calculating the distribution of the 100 CVs obtained from inter-spike intervals (ISIs) of these spike trains.\n",
    "\n",
    "For each spike train in our list, we first call the `isi()` function which returns an array of all N-1 ISIs for the N spikes in the input spike train. We then feed the list of ISIs into the `cv()` function, which returns a single value for the coefficient of variation:"
   ]
  },
  {
   "cell_type": "code",
   "execution_count": 17,
   "id": "be1b391d",
   "metadata": {},
   "outputs": [],
   "source": [
    "from elephant.statistics import isi, cv\n",
    "cv_list = [cv(isi(spiketrain)) for spiketrain in spiketrain_list]"
   ]
  },
  {
   "cell_type": "code",
   "execution_count": 18,
   "id": "215745ec",
   "metadata": {},
   "outputs": [
    {
     "data": {
      "image/png": "[encoded data removed]",
      "text/plain": [
       "<Figure size 600x400 with 1 Axes>"
      ]
     },
     "metadata": {
      "needs_background": "light"
     },
     "output_type": "display_data"
    }
   ],
   "source": [
    "plt.figure(dpi=100)\n",
    "plt.hist(cv_list)\n",
    "plt.xlabel('CV')\n",
    "plt.ylabel('count')\n",
    "plt.title(\"Coefficient of Variation of homogeneous Poisson process\")\n",
    "plt.show()"
   ]
  },
  {
   "cell_type": "code",
   "execution_count": 19,
   "id": "5e17b13b",
   "metadata": {},
   "outputs": [
    {
     "name": "stdout",
     "output_type": "stream",
     "text": [
      "0.9988464250640561\n"
     ]
    }
   ],
   "source": [
    "print(np.mean(cv_list))"
   ]
  },
  {
   "cell_type": "markdown",
   "id": "04f4c22a",
   "metadata": {},
   "source": [
    "As predicted by theory, the CV values are clustered around 1."
   ]
  },
  {
   "cell_type": "code",
   "execution_count": null,
   "id": "8e0a8dbe",
   "metadata": {},
   "outputs": [],
   "source": []
  }
 ],
 "metadata": {
  "kernelspec": {
   "display_name": "Python 3 (ipykernel)",
   "language": "python",
   "name": "python3"
  },
  "language_info": {
   "codemirror_mode": {
    "name": "ipython",
    "version": 3
   },
   "file_extension": ".py",
   "mimetype": "text/x-python",
   "name": "python",
   "nbconvert_exporter": "python",
   "pygments_lexer": "ipython3",
   "version": "3.9.6"
  }
 },
 "nbformat": 4,
 "nbformat_minor": 5
}
