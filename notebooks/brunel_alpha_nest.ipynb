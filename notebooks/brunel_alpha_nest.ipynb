{
 "cells": [
  {
   "cell_type": "code",
   "execution_count": 1,
   "metadata": {},
   "outputs": [],
   "source": [
    "%matplotlib inline"
   ]
  },
  {
   "cell_type": "markdown",
   "metadata": {},
   "source": [
    "\n",
    "# Random balanced network (alpha synapses) connected with NEST\n",
    "\n",
    "This script simulates an excitatory and an inhibitory population on\n",
    "the basis of the network used in [1]_.\n",
    "\n",
    "In contrast to ``brunel-alpha-numpy.py``, this variant uses NEST's builtin\n",
    "connection routines to draw the random connections instead of NumPy.\n",
    "\n",
    "When connecting the network, customary synapse models are used, which\n",
    "allow for querying the number of created synapses. Using spike\n",
    "recorders, the average firing rates of the neurons in the populations\n",
    "are established. The building as well as the simulation time of the\n",
    "network are recorded.\n",
    "\n",
    "## References\n",
    "\n",
    ".. [1] Brunel N (2000). Dynamics of sparsely connected networks of excitatory and\n",
    "       inhibitory spiking neurons. Journal of Computational Neuroscience 8,\n",
    "       183-208.\n",
    "\n",
    "## See Also\n",
    "\n",
    ":doc:`brunel_alpha_numpy`\n"
   ]
  },
  {
   "cell_type": "markdown",
   "metadata": {},
   "source": [
    "Import all necessary modules for simulation, analysis and plotting. Scipy\n",
    "should be imported before nest.\n",
    "\n"
   ]
  },
  {
   "cell_type": "code",
   "execution_count": 2,
   "metadata": {},
   "outputs": [
    {
     "name": "stdout",
     "output_type": "stream",
     "text": [
      "\n",
      "              -- N E S T --\n",
      "  Copyright (C) 2004 The NEST Initiative\n",
      "\n",
      " Version: master@c4a0daab5\n",
      " Built: Aug 13 2021 01:17:10\n",
      "\n",
      " This program is provided AS IS and comes with\n",
      " NO WARRANTY. See the file LICENSE for details.\n",
      "\n",
      " Problems or suggestions?\n",
      "   Visit https://www.nest-simulator.org\n",
      "\n",
      " Type 'nest.help()' to find out more about NEST.\n",
      "\n"
     ]
    }
   ],
   "source": [
    "import time\n",
    "import numpy as np\n",
    "import scipy.special as sp\n",
    "\n",
    "import nest\n",
    "import nest.raster_plot\n",
    "import matplotlib.pyplot as plt"
   ]
  },
  {
   "cell_type": "markdown",
   "metadata": {},
   "source": [
    "Definition of functions used in this example. First, define the `Lambert W`\n",
    "function implemented in SLI. The second function computes the maximum of\n",
    "the postsynaptic potential for a synaptic input current of unit amplitude\n",
    "(1 pA) using the `Lambert W` function. Thus function will later be used to\n",
    "calibrate the synaptic weights.\n",
    "\n"
   ]
  },
  {
   "cell_type": "code",
   "execution_count": 3,
   "metadata": {},
   "outputs": [],
   "source": [
    "def LambertWm1(x):\n",
    "    # Using scipy to mimic the gsl_sf_lambert_Wm1 function.\n",
    "    return sp.lambertw(x, k=-1 if x < 0 else 0).real\n",
    "\n",
    "\n",
    "def ComputePSPnorm(tauMem, CMem, tauSyn):\n",
    "    a = (tauMem / tauSyn)\n",
    "    b = (1.0 / tauSyn - 1.0 / tauMem)\n",
    "\n",
    "    # time of maximum\n",
    "    t_max = 1.0 / b * (-LambertWm1(-np.exp(-1.0 / a) / a) - 1.0 / a)\n",
    "\n",
    "    # maximum of PSP for current of unit amplitude\n",
    "    return (np.exp(1.0) / (tauSyn * CMem * b) *\n",
    "            ((np.exp(-t_max / tauMem) - np.exp(-t_max / tauSyn)) / b -\n",
    "             t_max * np.exp(-t_max / tauSyn)))\n",
    "\n",
    "\n",
    "nest.ResetKernel()"
   ]
  },
  {
   "cell_type": "markdown",
   "metadata": {},
   "source": [
    "Assigning the current time to a variable in order to determine the build\n",
    "time of the network.\n",
    "\n"
   ]
  },
  {
   "cell_type": "code",
   "execution_count": 4,
   "metadata": {},
   "outputs": [],
   "source": [
    "startbuild = time.time()"
   ]
  },
  {
   "cell_type": "markdown",
   "metadata": {},
   "source": [
    "Assigning the simulation parameters to variables.\n",
    "\n"
   ]
  },
  {
   "cell_type": "code",
   "execution_count": 5,
   "metadata": {},
   "outputs": [],
   "source": [
    "dt = 0.1    # the resolution in ms\n",
    "simtime = 1000.0  # Simulation time in ms\n",
    "delay = 1.5    # synaptic delay in ms"
   ]
  },
  {
   "cell_type": "markdown",
   "metadata": {},
   "source": [
    "Definition of the parameters crucial for asynchronous irregular firing of\n",
    "the neurons.\n",
    "\n"
   ]
  },
  {
   "cell_type": "code",
   "execution_count": 6,
   "metadata": {},
   "outputs": [],
   "source": [
    "g = 5.0  # ratio inhibitory weight/excitatory weight\n",
    "eta = 2.0  # external rate relative to threshold rate\n",
    "epsilon = 0.1  # connection probability"
   ]
  },
  {
   "cell_type": "markdown",
   "metadata": {},
   "source": [
    "Definition of the number of neurons in the network and the number of neurons\n",
    "recorded from\n",
    "\n"
   ]
  },
  {
   "cell_type": "code",
   "execution_count": 7,
   "metadata": {},
   "outputs": [],
   "source": [
    "order = 2500\n",
    "NE = 4 * order  # number of excitatory neurons\n",
    "NI = 1 * order  # number of inhibitory neurons\n",
    "N_neurons = NE + NI   # number of neurons in total\n",
    "N_rec = 50      # record from 50 neurons"
   ]
  },
  {
   "cell_type": "markdown",
   "metadata": {},
   "source": [
    "Definition of connectivity parameters\n",
    "\n"
   ]
  },
  {
   "cell_type": "code",
   "execution_count": 8,
   "metadata": {},
   "outputs": [],
   "source": [
    "CE = int(epsilon * NE)  # number of excitatory synapses per neuron\n",
    "CI = int(epsilon * NI)  # number of inhibitory synapses per neuron\n",
    "C_tot = int(CI + CE)      # total number of synapses per neuron"
   ]
  },
  {
   "cell_type": "markdown",
   "metadata": {},
   "source": [
    "Initialization of the parameters of the integrate and fire neuron and the\n",
    "synapses. The parameters of the neuron are stored in a dictionary. The\n",
    "synaptic currents are normalized such that the amplitude of the PSP is J.\n",
    "\n"
   ]
  },
  {
   "cell_type": "code",
   "execution_count": 9,
   "metadata": {},
   "outputs": [],
   "source": [
    "tauSyn = 0.5  # synaptic time constant in ms\n",
    "tauMem = 20.0  # time constant of membrane potential in ms\n",
    "CMem = 250.0  # capacitance of membrane in in pF\n",
    "theta = 20.0  # membrane threshold potential in mV\n",
    "neuron_params = {\"C_m\": CMem,\n",
    "                 \"tau_m\": tauMem,\n",
    "                 \"tau_syn_ex\": tauSyn,\n",
    "                 \"tau_syn_in\": tauSyn,\n",
    "                 \"t_ref\": 2.0,\n",
    "                 \"E_L\": 0.0,\n",
    "                 \"V_reset\": 0.0,\n",
    "                 \"V_m\": 0.0,\n",
    "                 \"V_th\": theta}\n",
    "J = 0.1        # postsynaptic amplitude in mV\n",
    "J_unit = ComputePSPnorm(tauMem, CMem, tauSyn)\n",
    "J_ex = J / J_unit  # amplitude of excitatory postsynaptic current\n",
    "J_in = -g * J_ex    # amplitude of inhibitory postsynaptic current"
   ]
  },
  {
   "cell_type": "markdown",
   "metadata": {},
   "source": [
    "Definition of threshold rate, which is the external rate needed to fix the\n",
    "membrane potential around its threshold, the external firing rate and the\n",
    "rate of the poisson generator which is multiplied by the in-degree CE and\n",
    "converted to Hz by multiplication by 1000.\n",
    "\n"
   ]
  },
  {
   "cell_type": "code",
   "execution_count": 10,
   "metadata": {},
   "outputs": [],
   "source": [
    "nu_th = (theta * CMem) / (J_ex * CE * np.exp(1) * tauMem * tauSyn)\n",
    "nu_ex = eta * nu_th\n",
    "p_rate = 1000.0 * nu_ex * CE"
   ]
  },
  {
   "cell_type": "markdown",
   "metadata": {},
   "source": [
    "Configuration of the simulation kernel by the previously defined time\n",
    "resolution used in the simulation. Setting ``print_time`` to `True` prints the\n",
    "already processed simulation time as well as its percentage of the total\n",
    "simulation time.\n",
    "\n"
   ]
  },
  {
   "cell_type": "code",
   "execution_count": 11,
   "metadata": {},
   "outputs": [
    {
     "name": "stdout",
     "output_type": "stream",
     "text": [
      "Building network\n",
      "\n",
      "Aug 13 01:47:29 SimulationManager::set_status [Info]: \n",
      "    Temporal resolution changed.\n"
     ]
    }
   ],
   "source": [
    "nest.SetKernelStatus({\"resolution\": dt, \"print_time\": True,\n",
    "                      \"overwrite_files\": True})\n",
    "\n",
    "print(\"Building network\")"
   ]
  },
  {
   "cell_type": "markdown",
   "metadata": {},
   "source": [
    "Creation of the nodes using ``Create``. We store the returned handles in\n",
    "variables for later reference. Here the excitatory and inhibitory, as well\n",
    "as the poisson generator and two spike recorders. The spike recorders will\n",
    "later be used to record excitatory and inhibitory spikes. Properties of the\n",
    "nodes are specified via ``params``, which expects a dictionary.\n",
    "\n"
   ]
  },
  {
   "cell_type": "code",
   "execution_count": 12,
   "metadata": {},
   "outputs": [],
   "source": [
    "nodes_ex = nest.Create(\"iaf_psc_alpha\", NE, params=neuron_params)\n",
    "nodes_in = nest.Create(\"iaf_psc_alpha\", NI, params=neuron_params)\n",
    "noise = nest.Create(\"poisson_generator\", params={\"rate\": p_rate})\n",
    "espikes = nest.Create(\"spike_recorder\")\n",
    "ispikes = nest.Create(\"spike_recorder\")"
   ]
  },
  {
   "cell_type": "markdown",
   "metadata": {},
   "source": [
    "Configuration of the spike recorders recording excitatory and inhibitory\n",
    "spikes by sending parameter dictionaries to ``set``. Setting the property\n",
    "`record_to` to *\"ascii\"* ensures that the spikes will be recorded to a file,\n",
    "whose name starts with the string assigned to the property `label`.\n",
    "\n"
   ]
  },
  {
   "cell_type": "code",
   "execution_count": 13,
   "metadata": {},
   "outputs": [
    {
     "name": "stdout",
     "output_type": "stream",
     "text": [
      "Connecting devices\n"
     ]
    }
   ],
   "source": [
    "espikes.set(label=\"brunel-py-ex\", record_to=\"ascii\")\n",
    "ispikes.set(label=\"brunel-py-in\", record_to=\"ascii\")\n",
    "\n",
    "print(\"Connecting devices\")"
   ]
  },
  {
   "cell_type": "markdown",
   "metadata": {},
   "source": [
    "Definition of a synapse using ``CopyModel``, which expects the model name of\n",
    "a pre-defined synapse, the name of the customary synapse and an optional\n",
    "parameter dictionary. The parameters defined in the dictionary will be the\n",
    "default parameter for the customary synapse. Here we define one synapse for\n",
    "the excitatory and one for the inhibitory connections giving the\n",
    "previously defined weights and equal delays.\n",
    "\n"
   ]
  },
  {
   "cell_type": "code",
   "execution_count": 14,
   "metadata": {},
   "outputs": [],
   "source": [
    "nest.CopyModel(\"static_synapse\", \"excitatory\",\n",
    "               {\"weight\": J_ex, \"delay\": delay})\n",
    "nest.CopyModel(\"static_synapse\", \"inhibitory\",\n",
    "               {\"weight\": J_in, \"delay\": delay})"
   ]
  },
  {
   "cell_type": "markdown",
   "metadata": {},
   "source": [
    "Connecting the previously defined poisson generator to the excitatory and\n",
    "inhibitory neurons using the excitatory synapse. Since the poisson\n",
    "generator is connected to all neurons in the population the default rule\n",
    "(``all_to_all``) of ``Connect`` is used. The synaptic properties are inserted\n",
    "via ``syn_spec`` which expects a dictionary when defining multiple variables or\n",
    "a string when simply using a pre-defined synapse.\n",
    "\n"
   ]
  },
  {
   "cell_type": "code",
   "execution_count": 15,
   "metadata": {},
   "outputs": [],
   "source": [
    "nest.Connect(noise, nodes_ex, syn_spec=\"excitatory\")\n",
    "nest.Connect(noise, nodes_in, syn_spec=\"excitatory\")"
   ]
  },
  {
   "cell_type": "markdown",
   "metadata": {},
   "source": [
    "Connecting the first ``N_rec`` nodes of the excitatory and inhibitory\n",
    "population to the associated spike recorders using excitatory synapses.\n",
    "Here the same shortcut for the specification of the synapse as defined\n",
    "above is used.\n",
    "\n"
   ]
  },
  {
   "cell_type": "code",
   "execution_count": 16,
   "metadata": {},
   "outputs": [
    {
     "name": "stdout",
     "output_type": "stream",
     "text": [
      "Connecting network\n",
      "Excitatory connections\n"
     ]
    }
   ],
   "source": [
    "nest.Connect(nodes_ex[:N_rec], espikes, syn_spec=\"excitatory\")\n",
    "nest.Connect(nodes_in[:N_rec], ispikes, syn_spec=\"excitatory\")\n",
    "\n",
    "print(\"Connecting network\")\n",
    "\n",
    "print(\"Excitatory connections\")"
   ]
  },
  {
   "cell_type": "markdown",
   "metadata": {},
   "source": [
    "Connecting the excitatory population to all neurons using the pre-defined\n",
    "excitatory synapse. Beforehand, the connection parameter are defined in a\n",
    "dictionary. Here we use the connection rule ``fixed_indegree``,\n",
    "which requires the definition of the indegree. Since the synapse\n",
    "specification is reduced to assigning the pre-defined excitatory synapse it\n",
    "suffices to insert a string.\n",
    "\n"
   ]
  },
  {
   "cell_type": "code",
   "execution_count": 17,
   "metadata": {},
   "outputs": [
    {
     "name": "stdout",
     "output_type": "stream",
     "text": [
      "Inhibitory connections\n"
     ]
    }
   ],
   "source": [
    "conn_params_ex = {'rule': 'fixed_indegree', 'indegree': CE}\n",
    "nest.Connect(nodes_ex, nodes_ex + nodes_in, conn_params_ex, \"excitatory\")\n",
    "\n",
    "print(\"Inhibitory connections\")"
   ]
  },
  {
   "cell_type": "markdown",
   "metadata": {},
   "source": [
    "Connecting the inhibitory population to all neurons using the pre-defined\n",
    "inhibitory synapse. The connection parameter as well as the synapse\n",
    "parameter are defined analogously to the connection from the excitatory\n",
    "population defined above.\n",
    "\n"
   ]
  },
  {
   "cell_type": "code",
   "execution_count": 18,
   "metadata": {},
   "outputs": [],
   "source": [
    "conn_params_in = {'rule': 'fixed_indegree', 'indegree': CI}\n",
    "nest.Connect(nodes_in, nodes_ex + nodes_in, conn_params_in, \"inhibitory\")"
   ]
  },
  {
   "cell_type": "markdown",
   "metadata": {},
   "source": [
    "Storage of the time point after the buildup of the network in a variable.\n",
    "\n"
   ]
  },
  {
   "cell_type": "code",
   "execution_count": 19,
   "metadata": {},
   "outputs": [],
   "source": [
    "endbuild = time.time()"
   ]
  },
  {
   "cell_type": "markdown",
   "metadata": {},
   "source": [
    "Simulation of the network.\n",
    "\n"
   ]
  },
  {
   "cell_type": "code",
   "execution_count": 20,
   "metadata": {},
   "outputs": [
    {
     "name": "stdout",
     "output_type": "stream",
     "text": [
      "Simulating\n",
      "\n",
      "Aug 13 01:47:32 NodeManager::prepare_nodes [Info]: \n",
      "    Preparing 12503 nodes for simulation.\n",
      "\n",
      "Aug 13 01:47:33 SimulationManager::run [Warning]: \n",
      "    The requested simulation time is not an integer multiple of the minimal \n",
      "    delay in the network. This may result in inconsistent results under the \n",
      "    following conditions: (i) A network contains more than one source of \n",
      "    randomness, e.g., two different poisson_generators, and (ii) Simulate is \n",
      "    called repeatedly with simulation times that are not multiples of the \n",
      "    minimal delay.\n",
      "\n",
      "Aug 13 01:47:33 SimulationManager::start_updating_ [Info]: \n",
      "    Number of local nodes: 12503\n",
      "    Simulation time (ms): 1000\n",
      "    Number of OpenMP threads: 1\n",
      "    Not using MPI\n",
      "\n",
      "[  33% ] Model time: 325.5 ms, Real-time factor: 33.6630"
     ]
    }
   ],
   "source": [
    "print(\"Simulating\")\n",
    "\n",
    "nest.Simulate(simtime)"
   ]
  },
  {
   "cell_type": "markdown",
   "metadata": {},
   "source": [
    "Storage of the time point after the simulation of the network in a variable.\n",
    "\n"
   ]
  },
  {
   "cell_type": "code",
   "execution_count": 21,
   "metadata": {},
   "outputs": [
    {
     "name": "stdout",
     "output_type": "stream",
     "text": [
      "[  81% ] Model time: 799.5 ms, Real-time factor: 26.9590"
     ]
    }
   ],
   "source": [
    "endsimulate = time.time()"
   ]
  },
  {
   "cell_type": "markdown",
   "metadata": {},
   "source": [
    "Reading out the total number of spikes received from the spike recorder\n",
    "connected to the excitatory population and the inhibitory population.\n",
    "\n"
   ]
  },
  {
   "cell_type": "code",
   "execution_count": 22,
   "metadata": {},
   "outputs": [
    {
     "name": "stdout",
     "output_type": "stream",
     "text": [
      "odel time: 801.0 ms, Real-time factor: 26.9498\r",
      "[  81% ] Model time: 802.5 ms, Real-time factor: 26.9273\r",
      "[  81% ] Model time: 804.0 ms, Real-time factor: 26.9048\r",
      "[  81% ] Model time: 805.5 ms, Real-time factor: 26.8871\r",
      "[  81% ] Model time: 807.0 ms, Real-time factor: 26.8775\r",
      "[  81% ] Model time: 808.5 ms, Real-time factor: 26.8701\r",
      "[  81% ] Model time: 810.0 ms, Real-time factor: 26.8685\r",
      "[  82% ] Model time: 811.5 ms, Real-time factor: 26.8616\r",
      "[  82% ] Model time: 813.0 ms, Real-time factor: 26.8497\r",
      "[  82% ] Model time: 814.5 ms, Real-time factor: 26.8398\r",
      "[  82% ] Model time: 816.0 ms, Real-time factor: 26.8206\r",
      "[  82% ] Model time: 817.5 ms, Real-time factor: 26.8078\r",
      "[  82% ] Model time: 819.0 ms, Real-time factor: 26.7896\r",
      "[  83% ] Model time: 820.5 ms, Real-time factor: 26.7786\r",
      "[  83% ] Model time: 822.0 ms, Real-time factor: 26.7626\r",
      "[  83% ] Model time: 823.5 ms, Real-time factor: 26.7526\r",
      "[  83% ] Model time: 825.0 ms, Real-time factor: 26.7433\r",
      "[  83% ] Model time: 826.5 ms, Real-time factor: 26.7407\r",
      "[  83% ] Model time: 828.0 ms, Real-time factor: 26.7300\r",
      "[  83% ] Model time: 829.5 ms, Real-time factor: 26.7164\r",
      "[  84% ] Model time: 831.0 ms, Real-time factor: 26.7074\r",
      "[  84% ] Model time: 832.5 ms, Real-time factor: 26.7093\r",
      "[  84% ] Model time: 834.0 ms, Real-time factor: 26.7236\r",
      "[  84% ] Model time: 835.5 ms, Real-time factor: 26.7363\r",
      "[  84% ] Model time: 837.0 ms, Real-time factor: 26.7236\r",
      "[  84% ] Model time: 838.5 ms, Real-time factor: 26.7096\r",
      "[  84% ] Model time: 840.0 ms, Real-time factor: 26.7020\r",
      "[  85% ] Model time: 841.5 ms, Real-time factor: 26.6949\r",
      "[  85% ] Model time: 843.0 ms, Real-time factor: 26.6813\r",
      "[  85% ] Model time: 844.5 ms, Real-time factor: 26.6696\r",
      "[  85% ] Model time: 846.0 ms, Real-time factor: 26.6622\r",
      "[  85% ] Model time: 847.5 ms, Real-time factor: 26.6501\r",
      "[  85% ] Model time: 849.0 ms, Real-time factor: 26.6376\r",
      "[  86% ] Model time: 850.5 ms, Real-time factor: 26.6188\r",
      "[  86% ] Model time: 852.0 ms, Real-time factor: 26.6076\r",
      "[  86% ] Model time: 853.5 ms, Real-time factor: 26.6026\r",
      "[  86% ] Model time: 855.0 ms, Real-time factor: 26.5895\r",
      "[  86% ] Model time: 856.5 ms, Real-time factor: 26.5713\r",
      "[  86% ] Model time: 858.0 ms, Real-time factor: 26.5669\r",
      "[  86% ] Model time: 859.5 ms, Real-time factor: 26.5653\r",
      "[  87% ] Model time: 861.0 ms, Real-time factor: 26.5804\r",
      "[  87% ] Model time: 862.5 ms, Real-time factor: 26.5838\r",
      "[  87% ] Model time: 864.0 ms, Real-time factor: 26.6174\r",
      "[  87% ] Model time: 865.5 ms, Real-time factor: 26.6584\r",
      "[  87% ] Model time: 867.0 ms, Real-time factor: 26.7115\r",
      "[  87% ] Model time: 868.5 ms, Real-time factor: 26.7707\r",
      "[  87% ] Model time: 870.0 ms, Real-time factor: 26.8473\r",
      "[  88% ] Model time: 871.5 ms, Real-time factor: 26.8908\r",
      "[  88% ] Model time: 873.0 ms, Real-time factor: 26.9285\r",
      "[  88% ] Model time: 874.5 ms, Real-time factor: 26.9402\r",
      "[  88% ] Model time: 876.0 ms, Real-time factor: 26.9326\r",
      "[  88% ] Model time: 877.5 ms, Real-time factor: 26.9330\r",
      "[  88% ] Model time: 879.0 ms, Real-time factor: 26.9411\r",
      "[  89% ] Model time: 880.5 ms, Real-time factor: 26.9640\r",
      "[  89% ] Model time: 882.0 ms, Real-time factor: 26.9960\r",
      "[  89% ] Model time: 883.5 ms, Real-time factor: 27.0471\r",
      "[  89% ] Model time: 885.0 ms, Real-time factor: 27.0935\r",
      "[  89% ] Model time: 886.5 ms, Real-time factor: 27.1386\r",
      "[  89% ] Model time: 888.0 ms, Real-time factor: 27.2204\r",
      "[  89% ] Model time: 889.5 ms, Real-time factor: 27.2372\r",
      "[  90% ] Model time: 891.0 ms, Real-time factor: 27.2353\r",
      "[  90% ] Model time: 892.5 ms, Real-time factor: 27.2313\r",
      "[  90% ] Model time: 894.0 ms, Real-time factor: 27.2421\r",
      "[  90% ] Model time: 895.5 ms, Real-time factor: 27.2370\r",
      "[  90% ] Model time: 897.0 ms, Real-time factor: 27.2303\r",
      "[  90% ] Model time: 898.5 ms, Real-time factor: 27.2114\r",
      "[  90% ] Model time: 900.0 ms, Real-time factor: 27.1959\r",
      "[  91% ] Model time: 901.5 ms, Real-time factor: 27.1873\r",
      "[  91% ] Model time: 903.0 ms, Real-time factor: 27.1822\r",
      "[  91% ] Model time: 904.5 ms, Real-time factor: 27.1691\r",
      "[  91% ] Model time: 906.0 ms, Real-time factor: 27.1634\r",
      "[  91% ] Model time: 907.5 ms, Real-time factor: 27.1569\r",
      "[  91% ] Model time: 909.0 ms, Real-time factor: 27.1803\r",
      "[  92% ] Model time: 910.5 ms, Real-time factor: 27.2128\r",
      "[  92% ] Model time: 912.0 ms, Real-time factor: 27.2500\r",
      "[  92% ] Model time: 913.5 ms, Real-time factor: 27.2987\r",
      "[  92% ] Model time: 915.0 ms, Real-time factor: 27.3555\r",
      "[  92% ] Model time: 916.5 ms, Real-time factor: 27.3948\r",
      "[  92% ] Model time: 918.0 ms, Real-time factor: 27.3963\r",
      "[  92% ] Model time: 919.5 ms, Real-time factor: 27.3971\r",
      "[  93% ] Model time: 921.0 ms, Real-time factor: 27.4198\r",
      "[  93% ] Model time: 922.5 ms, Real-time factor: 27.4439\r",
      "[  93% ] Model time: 924.0 ms, Real-time factor: 27.4412\r",
      "[  93% ] Model time: 925.5 ms, Real-time factor: 27.4404\r",
      "[  93% ] Model time: 927.0 ms, Real-time factor: 27.4536\r",
      "[  93% ] Model time: 928.5 ms, Real-time factor: 27.4515\r",
      "[  93% ] Model time: 930.0 ms, Real-time factor: 27.4374\r",
      "[  94% ] Model time: 931.5 ms, Real-time factor: 27.4237\r",
      "[  94% ] Model time: 933.0 ms, Real-time factor: 27.4100\r",
      "[  94% ] Model time: 934.5 ms, Real-time factor: 27.3940\r",
      "[  94% ] Model time: 936.0 ms, Real-time factor: 27.3811\r",
      "[  94% ] Model time: 937.5 ms, Real-time factor: 27.3669\r",
      "[  94% ] Model time: 939.0 ms, Real-time factor: 27.3600\r",
      "[  95% ] Model time: 940.5 ms, Real-time factor: 27.3551\r",
      "[  95% ] Model time: 942.0 ms, Real-time factor: 27.3496\r",
      "[  95% ] Model time: 943.5 ms, Real-time factor: 27.3351\r",
      "[  95% ] Model time: 945.0 ms, Real-time factor: 27.3189\r",
      "[  95% ] Model time: 946.5 ms, Real-time factor: 27.3107\r",
      "[  95% ] Model time: 948.0 ms, Real-time factor: 27.3232\r",
      "[  95% ] Model time: 949.5 ms, Real-time factor: 27.3106\r",
      "[  96% ] Model time: 951.0 ms, Real-time factor: 27.3011\r",
      "[  96% ] Model time: 952.5 ms, Real-time factor: 27.2960\r",
      "[  96% ] Model time: 954.0 ms, Real-time factor: 27.3000\r",
      "[  96% ] Model time: 955.5 ms, Real-time factor: 27.3028\r",
      "[  96% ] Model time: 957.0 ms, Real-time factor: 27.2921\r",
      "[  96% ] Model time: 958.5 ms, Real-time factor: 27.2859\r",
      "[  96% ] Model time: 960.0 ms, Real-time factor: 27.2877\r",
      "[  97% ] Model time: 961.5 ms, Real-time factor: 27.2832\r",
      "[  97% ] Model time: 963.0 ms, Real-time factor: 27.2724\r",
      "[  97% ] Model time: 964.5 ms, Real-time factor: 27.2625\r",
      "[  97% ] Model time: 966.0 ms, Real-time factor: 27.2519\r",
      "[  97% ] Model time: 967.5 ms, Real-time factor: 27.2523\r",
      "[  97% ] Model time: 969.0 ms, Real-time factor: 27.2558\r",
      "[  98% ] Model time: 970.5 ms, Real-time factor: 27.2339\r",
      "[  98% ] Model time: 972.0 ms, Real-time factor: 27.2116\r",
      "[  98% ] Model time: 973.5 ms, Real-time factor: 27.1922\r",
      "[  98% ] Model time: 975.0 ms, Real-time factor: 27.1834\r",
      "[  98% ] Model time: 976.5 ms, Real-time factor: 27.1813\r",
      "[  98% ] Model time: 978.0 ms, Real-time factor: 27.1778\r",
      "[  98% ] Model time: 979.5 ms, Real-time factor: 27.1664\r",
      "[  99% ] Model time: 981.0 ms, Real-time factor: 27.1601\r",
      "[  99% ] Model time: 982.5 ms, Real-time factor: 27.1549\r",
      "[  99% ] Model time: 984.0 ms, Real-time factor: 27.1541\r",
      "[  99% ] Model time: 985.5 ms, Real-time factor: 27.1538\r",
      "[  99% ] Model time: 987.0 ms, Real-time factor: 27.1690\r",
      "[  99% ] Model time: 988.5 ms, Real-time factor: 27.1701\r",
      "[  99% ] Model time: 990.0 ms, Real-time factor: 27.1827\r",
      "[ 100% ] Model time: 991.5 ms, Real-time factor: 27.1811\r",
      "[ 100% ] Model time: 993.0 ms, Real-time factor: 27.1774\r",
      "[ 100% ] Model time: 994.5 ms, Real-time factor: 27.1780\r",
      "[ 100% ] Model time: 996.0 ms, Real-time factor: 27.1788\r",
      "[ 100% ] Model time: 997.5 ms, Real-time factor: 27.1794\r",
      "[ 100% ] Model time: 999.0 ms, Real-time factor: 27.1721\r",
      "[ 100% ] Model time: 999.0 ms, Real-time factor: 27.1532\n",
      "\n",
      "Aug 13 01:48:00 SimulationManager::run [Info]: \n",
      "    Simulation finished.\n"
     ]
    }
   ],
   "source": [
    "events_ex = espikes.n_events\n",
    "events_in = ispikes.n_events"
   ]
  },
  {
   "cell_type": "markdown",
   "metadata": {},
   "source": [
    "Calculation of the average firing rate of the excitatory and the inhibitory\n",
    "neurons by dividing the total number of recorded spikes by the number of\n",
    "neurons recorded from and the simulation time. The multiplication by 1000.0\n",
    "converts the unit 1/ms to 1/s=Hz.\n",
    "\n"
   ]
  },
  {
   "cell_type": "code",
   "execution_count": 23,
   "metadata": {},
   "outputs": [],
   "source": [
    "rate_ex = events_ex / simtime * 1000.0 / N_rec\n",
    "rate_in = events_in / simtime * 1000.0 / N_rec"
   ]
  },
  {
   "cell_type": "markdown",
   "metadata": {},
   "source": [
    "Reading out the number of connections established using the excitatory and\n",
    "inhibitory synapse model. The numbers are summed up resulting in the total\n",
    "number of synapses.\n",
    "\n"
   ]
  },
  {
   "cell_type": "code",
   "execution_count": 24,
   "metadata": {},
   "outputs": [],
   "source": [
    "num_synapses = (nest.GetDefaults(\"excitatory\")[\"num_connections\"] +\n",
    "                nest.GetDefaults(\"inhibitory\")[\"num_connections\"])"
   ]
  },
  {
   "cell_type": "markdown",
   "metadata": {},
   "source": [
    "Establishing the time it took to build and simulate the network by taking\n",
    "the difference of the pre-defined time variables.\n",
    "\n"
   ]
  },
  {
   "cell_type": "code",
   "execution_count": 25,
   "metadata": {},
   "outputs": [],
   "source": [
    "build_time = endbuild - startbuild\n",
    "sim_time = endsimulate - endbuild"
   ]
  },
  {
   "cell_type": "markdown",
   "metadata": {},
   "source": [
    "Printing the network properties, firing rates and building times.\n",
    "\n"
   ]
  },
  {
   "cell_type": "code",
   "execution_count": 26,
   "metadata": {},
   "outputs": [
    {
     "name": "stdout",
     "output_type": "stream",
     "text": [
      "Brunel network simulation (Python)\n",
      "Number of neurons : 12500\n",
      "Number of synapses: 15637600\n",
      "       Exitatory  : 12512500\n",
      "       Inhibitory : 3125000\n",
      "Excitatory rate   : 28.72 Hz\n",
      "Inhibitory rate   : 28.88 Hz\n",
      "Building time     : 2.45 s\n",
      "Simulation time   : 28.39 s\n"
     ]
    }
   ],
   "source": [
    "print(\"Brunel network simulation (Python)\")\n",
    "print(f\"Number of neurons : {N_neurons}\")\n",
    "print(f\"Number of synapses: {num_synapses}\")\n",
    "print(f\"       Exitatory  : {int(CE * N_neurons) + N_neurons}\")\n",
    "print(f\"       Inhibitory : {int(CI * N_neurons)}\")\n",
    "print(f\"Excitatory rate   : {rate_ex:.2f} Hz\")\n",
    "print(f\"Inhibitory rate   : {rate_in:.2f} Hz\")\n",
    "print(f\"Building time     : {build_time:.2f} s\")\n",
    "print(f\"Simulation time   : {sim_time:.2f} s\")"
   ]
  },
  {
   "cell_type": "markdown",
   "metadata": {},
   "source": [
    "Plot a raster of the excitatory neurons and a histogram.\n",
    "\n"
   ]
  },
  {
   "cell_type": "code",
   "execution_count": 27,
   "metadata": {},
   "outputs": [
    {
     "data": {
      "image/png": "[encoded data removed]",
      "text/plain": [
       "<Figure size 432x288 with 2 Axes>"
      ]
     },
     "metadata": {
      "needs_background": "light"
     },
     "output_type": "display_data"
    }
   ],
   "source": [
    "nest.raster_plot.from_device(espikes, hist=True)\n",
    "plt.show()"
   ]
  }
 ],
 "metadata": {
  "kernelspec": {
   "display_name": "Python 3 (ipykernel)",
   "language": "python",
   "name": "python3"
  },
  "language_info": {
   "codemirror_mode": {
    "name": "ipython",
    "version": 3
   },
   "file_extension": ".py",
   "mimetype": "text/x-python",
   "name": "python",
   "nbconvert_exporter": "python",
   "pygments_lexer": "ipython3",
   "version": "3.9.6"
  }
 },
 "nbformat": 4,
 "nbformat_minor": 1
}
